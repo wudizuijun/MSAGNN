{
 "cells": [
  {
   "cell_type": "code",
   "execution_count": 1,
   "metadata": {},
   "outputs": [],
   "source": [
    "import torch"
   ]
  },
  {
   "cell_type": "code",
   "execution_count": 6,
   "metadata": {},
   "outputs": [],
   "source": [
    "batch_size = 2\n",
    "node_num = 3\n",
    "seq_len = 4\n",
    "\n",
    "torch.manual_seed(0)\n",
    "x = torch.randn(batch_size, node_num, seq_len)"
   ]
  },
  {
   "cell_type": "code",
   "execution_count": 7,
   "metadata": {},
   "outputs": [
    {
     "data": {
      "text/plain": [
       "tensor([[[-1.1258, -1.1524, -0.2506, -0.4339],\n",
       "         [ 0.8487,  0.6920, -0.3160, -2.1152],\n",
       "         [ 0.4681, -0.1577,  1.4437,  0.2660]],\n",
       "\n",
       "        [[ 0.1665,  0.8744, -0.1435, -0.1116],\n",
       "         [ 0.9318,  1.2590,  2.0050,  0.0537],\n",
       "         [ 0.6181, -0.4128, -0.8411, -2.3160]]])"
      ]
     },
     "execution_count": 7,
     "metadata": {},
     "output_type": "execute_result"
    }
   ],
   "source": [
    "x"
   ]
  },
  {
   "cell_type": "code",
   "execution_count": 9,
   "metadata": {},
   "outputs": [
    {
     "data": {
      "text/plain": [
       "tensor([[[-1.1258, -1.1524, -0.2506, -0.4339],\n",
       "         [ 0.8487,  0.6920, -0.3160, -2.1152],\n",
       "         [ 0.4681, -0.1577,  1.4437,  0.2660],\n",
       "         [-1.1258, -1.1524, -0.2506, -0.4339],\n",
       "         [ 0.8487,  0.6920, -0.3160, -2.1152],\n",
       "         [ 0.4681, -0.1577,  1.4437,  0.2660],\n",
       "         [-1.1258, -1.1524, -0.2506, -0.4339],\n",
       "         [ 0.8487,  0.6920, -0.3160, -2.1152],\n",
       "         [ 0.4681, -0.1577,  1.4437,  0.2660]],\n",
       "\n",
       "        [[ 0.1665,  0.8744, -0.1435, -0.1116],\n",
       "         [ 0.9318,  1.2590,  2.0050,  0.0537],\n",
       "         [ 0.6181, -0.4128, -0.8411, -2.3160],\n",
       "         [ 0.1665,  0.8744, -0.1435, -0.1116],\n",
       "         [ 0.9318,  1.2590,  2.0050,  0.0537],\n",
       "         [ 0.6181, -0.4128, -0.8411, -2.3160],\n",
       "         [ 0.1665,  0.8744, -0.1435, -0.1116],\n",
       "         [ 0.9318,  1.2590,  2.0050,  0.0537],\n",
       "         [ 0.6181, -0.4128, -0.8411, -2.3160]]])"
      ]
     },
     "execution_count": 9,
     "metadata": {},
     "output_type": "execute_result"
    }
   ],
   "source": [
    "x.repeat(1, node_num, 1)"
   ]
  },
  {
   "cell_type": "code",
   "execution_count": 13,
   "metadata": {},
   "outputs": [],
   "source": [
    "x = torch.rand(3)"
   ]
  },
  {
   "cell_type": "code",
   "execution_count": 14,
   "metadata": {},
   "outputs": [
    {
     "data": {
      "text/plain": [
       "tensor([[0.0332, 0.0000, 0.0000],\n",
       "        [0.0000, 0.1387, 0.0000],\n",
       "        [0.0000, 0.0000, 0.2422]])"
      ]
     },
     "execution_count": 14,
     "metadata": {},
     "output_type": "execute_result"
    }
   ],
   "source": [
    "torch.diag(x)"
   ]
  },
  {
   "cell_type": "code",
   "execution_count": null,
   "metadata": {},
   "outputs": [],
   "source": []
  }
 ],
 "metadata": {
  "kernelspec": {
   "display_name": "mlearning",
   "language": "python",
   "name": "python3"
  },
  "language_info": {
   "codemirror_mode": {
    "name": "ipython",
    "version": 3
   },
   "file_extension": ".py",
   "mimetype": "text/x-python",
   "name": "python",
   "nbconvert_exporter": "python",
   "pygments_lexer": "ipython3",
   "version": "3.9.17"
  }
 },
 "nbformat": 4,
 "nbformat_minor": 2
}
