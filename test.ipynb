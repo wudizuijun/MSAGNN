{
 "cells": [
  {
   "cell_type": "code",
   "execution_count": 1,
   "metadata": {},
   "outputs": [],
   "source": [
    "import torch\n",
    "import numpy as np\n",
    "from scipy.stats import spearmanr, pearsonr\n",
    "from scipy.signal import correlate"
   ]
  },
  {
   "cell_type": "code",
   "execution_count": 3,
   "metadata": {},
   "outputs": [],
   "source": [
    "x = np.sin(np.arange(0, 10, 0.1))\n",
    "y = np.cos(np.arange(0, 10, 0.1))\n",
    "\n",
    "x = torch.from_numpy(x).float()\n",
    "y = torch.from_numpy(y).float()"
   ]
  },
  {
   "cell_type": "code",
   "execution_count": 4,
   "metadata": {},
   "outputs": [],
   "source": [
    "x_fft = torch.fft.rfft(x)\n",
    "y_fft = torch.fft.rfft(y)"
   ]
  },
  {
   "cell_type": "code",
   "execution_count": 5,
   "metadata": {},
   "outputs": [],
   "source": [
    "res = x_fft * torch.conj(y_fft) # x(f)x y*(f)\n",
    "corr = torch.fft.irfft(res,n=x.shape[0],dim=-1)"
   ]
  },
  {
   "cell_type": "code",
   "execution_count": 6,
   "metadata": {},
   "outputs": [
    {
     "data": {
      "text/plain": [
       "tensor(-0.8421)"
      ]
     },
     "execution_count": 6,
     "metadata": {},
     "output_type": "execute_result"
    }
   ],
   "source": [
    "sum(corr)/len(corr)"
   ]
  },
  {
   "cell_type": "code",
   "execution_count": 40,
   "metadata": {},
   "outputs": [
    {
     "data": {
      "text/plain": [
       "array([[1., 1.],\n",
       "       [1., 1.]])"
      ]
     },
     "execution_count": 40,
     "metadata": {},
     "output_type": "execute_result"
    }
   ],
   "source": [
    "np.corrcoef(x.numpy(), y.numpy())"
   ]
  },
  {
   "cell_type": "code",
   "execution_count": 9,
   "metadata": {},
   "outputs": [
    {
     "data": {
      "text/plain": [
       "tensor([[1, 2],\n",
       "        [3, 4]])"
      ]
     },
     "execution_count": 9,
     "metadata": {},
     "output_type": "execute_result"
    }
   ],
   "source": [
    "t = torch.tensor([[1,2],[3,4]])\n",
    "t"
   ]
  },
  {
   "cell_type": "code",
   "execution_count": 10,
   "metadata": {},
   "outputs": [
    {
     "data": {
      "text/plain": [
       "tensor([[1, 2],\n",
       "        [3, 4]])"
      ]
     },
     "execution_count": 10,
     "metadata": {},
     "output_type": "execute_result"
    }
   ],
   "source": [
    "torch.conj(t)"
   ]
  },
  {
   "cell_type": "code",
   "execution_count": 11,
   "metadata": {},
   "outputs": [],
   "source": [
    "X = torch.tensor([[1,2],[3,4]])\n",
    "Y = torch.tensor([[2,1],[4,3]])"
   ]
  },
  {
   "cell_type": "code",
   "execution_count": 16,
   "metadata": {},
   "outputs": [],
   "source": [
    "X_f = torch.fft.rfft(X)\n",
    "Y_f = torch.fft.rfft(Y)\n",
    "corr = torch.fft.irfft(X_f * torch.conj(Y_f), n=X.shape[0], dim=-1)"
   ]
  },
  {
   "cell_type": "code",
   "execution_count": 17,
   "metadata": {},
   "outputs": [
    {
     "data": {
      "text/plain": [
       "tensor([[ 4.,  5.],\n",
       "        [24., 25.]])"
      ]
     },
     "execution_count": 17,
     "metadata": {},
     "output_type": "execute_result"
    }
   ],
   "source": [
    "corr"
   ]
  },
  {
   "cell_type": "code",
   "execution_count": 20,
   "metadata": {},
   "outputs": [
    {
     "data": {
      "text/plain": [
       "tensor([14., 15.])"
      ]
     },
     "execution_count": 20,
     "metadata": {},
     "output_type": "execute_result"
    }
   ],
   "source": [
    "torch.mean(corr,dim=0)"
   ]
  },
  {
   "cell_type": "code",
   "execution_count": 14,
   "metadata": {},
   "outputs": [
    {
     "data": {
      "text/plain": [
       "tensor([[ 9.+0.j, -1.+0.j],\n",
       "        [49.+0.j, -1.+0.j]])"
      ]
     },
     "execution_count": 14,
     "metadata": {},
     "output_type": "execute_result"
    }
   ],
   "source": [
    "X_f * torch.conj(Y_f)"
   ]
  },
  {
   "cell_type": "code",
   "execution_count": 15,
   "metadata": {},
   "outputs": [
    {
     "data": {
      "text/plain": [
       "tensor([[ 9.+0.j, -1.+0.j],\n",
       "        [49.+0.j, -1.+0.j]])"
      ]
     },
     "execution_count": 15,
     "metadata": {},
     "output_type": "execute_result"
    }
   ],
   "source": [
    "X_f * Y_f"
   ]
  },
  {
   "cell_type": "code",
   "execution_count": null,
   "metadata": {},
   "outputs": [],
   "source": [
    "# 使用fft计算x, y 的相关性\n",
    "# 1. fft(x) fft(y)\n",
    "# 2. x(f)x y*(f)\n",
    "# 3. ifft(x(f)x y*(f))\n",
    "# 4. sum(ifft(x(f)x y*(f)))/len(ifft(x(f)x y*(f)))\n"
   ]
  },
  {
   "cell_type": "code",
   "execution_count": 62,
   "metadata": {},
   "outputs": [
    {
     "name": "stdout",
     "output_type": "stream",
     "text": [
      "tensor([[ 1.5000e+01+0.0000j, -2.5000e+00+3.4410j, -2.5000e+00+0.8123j],\n",
      "        [ 1.5000e+01+0.0000j,  1.1921e-07-4.2533j,  0.0000e+00+2.6287j]])\n"
     ]
    }
   ],
   "source": [
    "x1 = torch.tensor([[1,2,3,4,5],[3,4,5,1,2]]) # [[x1_fft][x2_fft]]\n",
    "x2 = torch.tensor([[3,4,5,6,7],[2,3,8,9,10]])\n",
    "x1_f = torch.fft.rfft(x1, dim=-1)\n",
    "x2_f = torch.fft.rfft(x1, dim=-1)\n",
    "print(x1_f)"
   ]
  },
  {
   "cell_type": "code",
   "execution_count": 63,
   "metadata": {},
   "outputs": [
    {
     "data": {
      "text/plain": [
       "tensor([15.0000+0.0000j, -2.5000+3.4410j, -2.5000+0.8123j])"
      ]
     },
     "execution_count": 63,
     "metadata": {},
     "output_type": "execute_result"
    }
   ],
   "source": [
    "torch.fft.rfft(x1[0,:])"
   ]
  },
  {
   "cell_type": "code",
   "execution_count": 65,
   "metadata": {},
   "outputs": [
    {
     "data": {
      "text/plain": [
       "tensor([3.0000, 4.0000, 5.0000, 1.0000, 2.0000])"
      ]
     },
     "execution_count": 65,
     "metadata": {},
     "output_type": "execute_result"
    }
   ],
   "source": [
    "torch.fft.irfft(\n",
    "    torch.tensor([1.5000e+01+0.0000j,  1.1921e-07-4.2533j,  0.0000e+00+2.6287j]),n=5)"
   ]
  },
  {
   "cell_type": "code",
   "execution_count": 75,
   "metadata": {},
   "outputs": [
    {
     "data": {
      "text/plain": [
       "tensor([[250.0000-2.2347e-07j, 212.5000-4.0615e+00j],\n",
       "        [212.5000+4.0615e+00j, 250.0000+0.0000e+00j]])"
      ]
     },
     "execution_count": 75,
     "metadata": {},
     "output_type": "execute_result"
    }
   ],
   "source": [
    "x1_f@torch.conj(x2_f).T"
   ]
  },
  {
   "cell_type": "code",
   "execution_count": 77,
   "metadata": {},
   "outputs": [
    {
     "data": {
      "text/plain": [
       "tensor([40., 45., 55., 45., 40.])"
      ]
     },
     "execution_count": 77,
     "metadata": {},
     "output_type": "execute_result"
    }
   ],
   "source": [
    "a =x1_f[0] * torch.conj(x2_f[1])\n",
    "torch.fft.irfft(a, n=x1.shape[1], dim=-1)"
   ]
  },
  {
   "cell_type": "code",
   "execution_count": 70,
   "metadata": {},
   "outputs": [
    {
     "name": "stdout",
     "output_type": "stream",
     "text": [
      "res:  tensor([[225.0000+0.j,  18.0902+0.j,   6.9098+0.j],\n",
      "        [225.0000+0.j,  18.0902+0.j,   6.9098+0.j]])\n",
      "corr:  tensor([[55.0000, 45.0000, 40.0000, 40.0000, 45.0000],\n",
      "        [55.0000, 45.0000, 40.0000, 40.0000, 45.0000]])\n"
     ]
    }
   ],
   "source": [
    "res = x1_f * torch.conj(x2_f)\n",
    "print('res: ', res)\n",
    "corr = torch.fft.irfft(res, n=x1.shape[1], dim=-1)\n",
    "print('corr: ', corr)"
   ]
  },
  {
   "cell_type": "code",
   "execution_count": 78,
   "metadata": {},
   "outputs": [
    {
     "data": {
      "text/plain": [
       "tensor([[ 3,  4,  5,  6,  7],\n",
       "        [ 2,  3,  8,  9, 10]])"
      ]
     },
     "execution_count": 78,
     "metadata": {},
     "output_type": "execute_result"
    }
   ],
   "source": [
    "x2"
   ]
  },
  {
   "cell_type": "code",
   "execution_count": 84,
   "metadata": {},
   "outputs": [],
   "source": [
    "# x2 -> float 32\n",
    "x2 = x2.float()"
   ]
  },
  {
   "cell_type": "code",
   "execution_count": 86,
   "metadata": {},
   "outputs": [
    {
     "data": {
      "text/plain": [
       "tensor([2.5000, 3.5000, 6.5000, 7.5000, 8.5000])"
      ]
     },
     "execution_count": 86,
     "metadata": {},
     "output_type": "execute_result"
    },
    {
     "ename": "",
     "evalue": "",
     "output_type": "error",
     "traceback": [
      "\u001b[1;31mThe Kernel crashed while executing code in the the current cell or a previous cell. Please review the code in the cell(s) to identify a possible cause of the failure. Click <a href='https://aka.ms/vscodeJupyterKernelCrash'>here</a> for more info. View Jupyter <a href='command:jupyter.viewOutput'>log</a> for further details."
     ]
    }
   ],
   "source": [
    "torch.mean(x2, dim=0)"
   ]
  },
  {
   "cell_type": "markdown",
   "metadata": {},
   "source": [
    "### select children node"
   ]
  },
  {
   "cell_type": "code",
   "execution_count": 1,
   "metadata": {},
   "outputs": [],
   "source": [
    "import torch"
   ]
  },
  {
   "cell_type": "code",
   "execution_count": 81,
   "metadata": {},
   "outputs": [],
   "source": [
    "a = torch.tensor([\n",
    "    [1,0,0],\n",
    "    [1,1,1],\n",
    "    [1,0,1]\n",
    "])\n",
    "x = torch.tensor([\n",
    "    [[1,2,3]],\n",
    "    [[0,3,7]],\n",
    "    [[3,0,6]]\n",
    "])\n",
    "res = (a*x.T).permute(1,0,2)"
   ]
  },
  {
   "cell_type": "code",
   "execution_count": 85,
   "metadata": {},
   "outputs": [
    {
     "data": {
      "text/plain": [
       "tensor([[3, 0, 6]])"
      ]
     },
     "execution_count": 85,
     "metadata": {},
     "output_type": "execute_result"
    }
   ],
   "source": [
    "x[2]"
   ]
  },
  {
   "cell_type": "code",
   "execution_count": 82,
   "metadata": {},
   "outputs": [
    {
     "data": {
      "text/plain": [
       "tensor([[[1, 0, 0],\n",
       "         [2, 0, 0],\n",
       "         [3, 0, 0]],\n",
       "\n",
       "        [[1, 0, 3],\n",
       "         [2, 3, 0],\n",
       "         [3, 7, 6]],\n",
       "\n",
       "        [[1, 0, 3],\n",
       "         [2, 0, 0],\n",
       "         [3, 0, 6]]])"
      ]
     },
     "execution_count": 82,
     "metadata": {},
     "output_type": "execute_result"
    }
   ],
   "source": [
    "res"
   ]
  },
  {
   "cell_type": "code",
   "execution_count": 83,
   "metadata": {},
   "outputs": [
    {
     "data": {
      "text/plain": [
       "tensor([[1, 0, 0],\n",
       "        [2, 0, 0],\n",
       "        [3, 0, 0]])"
      ]
     },
     "execution_count": 83,
     "metadata": {},
     "output_type": "execute_result"
    }
   ],
   "source": [
    "res[0]"
   ]
  },
  {
   "cell_type": "code",
   "execution_count": 113,
   "metadata": {},
   "outputs": [],
   "source": [
    "B, N, T = 2, 5, 3\n",
    "\n",
    "def generate_ad():\n",
    "    rand_mat = torch.rand(N, N)\n",
    "    ad = (rand_mat > 0.5).float()\n",
    "    # diag item set 0\n",
    "    for i in range(N):\n",
    "        ad[i, i] = 0\n",
    "    return ad\n",
    "        \n",
    "def get_data():\n",
    "    ''' generate node data, shape: (B * N * T)'''\n",
    "    # set seed\n",
    "    torch.manual_seed(0)\n",
    "    return torch.randn(B, N, T)\n",
    "data = get_data()\n",
    "ad = generate_ad()\n",
    "# data"
   ]
  },
  {
   "cell_type": "code",
   "execution_count": 122,
   "metadata": {},
   "outputs": [],
   "source": [
    "def get_child(X, A):\n",
    "    ''' x: (N, T), a: (N, N)'''\n",
    "    return (A*X[0]).permute(1,0,2)"
   ]
  },
  {
   "cell_type": "code",
   "execution_count": 132,
   "metadata": {},
   "outputs": [
    {
     "data": {
      "text/plain": [
       "tensor([[-1.1258, -1.1524, -0.2506],\n",
       "        [-0.4339,  0.8487,  0.6920],\n",
       "        [-0.3160, -2.1152,  0.3223],\n",
       "        [-1.2633,  0.3500,  0.3081],\n",
       "        [ 0.1198,  1.2377, -0.1435]])"
      ]
     },
     "execution_count": 132,
     "metadata": {},
     "output_type": "execute_result"
    }
   ],
   "source": [
    "data[0].s"
   ]
  },
  {
   "cell_type": "code",
   "execution_count": 133,
   "metadata": {},
   "outputs": [
    {
     "ename": "RuntimeError",
     "evalue": "The size of tensor a (5) must match the size of tensor b (3) at non-singleton dimension 0",
     "output_type": "error",
     "traceback": [
      "\u001b[1;31m---------------------------------------------------------------------------\u001b[0m",
      "\u001b[1;31mRuntimeError\u001b[0m                              Traceback (most recent call last)",
      "\u001b[1;32mg:\\Code\\FrameWork_version_1.0_gat\\test.ipynb Cell 34\u001b[0m line \u001b[0;36m1\n\u001b[1;32m----> <a href='vscode-notebook-cell:/g%3A/Code/FrameWork_version_1.0_gat/test.ipynb#Y121sZmlsZQ%3D%3D?line=0'>1</a>\u001b[0m (ad\u001b[39m*\u001b[39;49mdata[\u001b[39m0\u001b[39;49m]\u001b[39m.\u001b[39;49msqueeze()\u001b[39m.\u001b[39;49mT)\n",
      "\u001b[1;31mRuntimeError\u001b[0m: The size of tensor a (5) must match the size of tensor b (3) at non-singleton dimension 0"
     ]
    }
   ],
   "source": [
    "(ad*data[0].squeeze().T)"
   ]
  },
  {
   "cell_type": "code",
   "execution_count": 126,
   "metadata": {},
   "outputs": [
    {
     "data": {
      "text/plain": [
       "tensor([[[-1.1258, -1.1524, -0.2506],\n",
       "         [-0.4339,  0.8487,  0.6920],\n",
       "         [-0.3160, -2.1152,  0.3223],\n",
       "         [-1.2633,  0.3500,  0.3081],\n",
       "         [ 0.1198,  1.2377, -0.1435]],\n",
       "\n",
       "        [[-0.1116, -0.6136,  0.0316],\n",
       "         [-0.4927,  0.2484,  0.4397],\n",
       "         [ 0.1124, -0.8411, -2.3160],\n",
       "         [-0.1023,  0.7924, -0.2897],\n",
       "         [ 0.0525,  0.5229,  2.3022]]])"
      ]
     },
     "execution_count": 126,
     "metadata": {},
     "output_type": "execute_result"
    }
   ],
   "source": [
    "data"
   ]
  },
  {
   "cell_type": "code",
   "execution_count": 128,
   "metadata": {},
   "outputs": [
    {
     "data": {
      "text/plain": [
       "tensor([[0., 1., 0., 0., 1.],\n",
       "        [1., 0., 1., 1., 0.],\n",
       "        [1., 0., 0., 0., 1.],\n",
       "        [1., 0., 1., 0., 0.],\n",
       "        [1., 1., 1., 1., 0.]])"
      ]
     },
     "execution_count": 128,
     "metadata": {},
     "output_type": "execute_result"
    }
   ],
   "source": [
    "ad"
   ]
  },
  {
   "cell_type": "code",
   "execution_count": 125,
   "metadata": {},
   "outputs": [
    {
     "name": "stdout",
     "output_type": "stream",
     "text": [
      "data:  tensor([[[-1.1258, -1.1524, -0.2506],\n",
      "         [-0.4339,  0.8487,  0.6920],\n",
      "         [-0.3160, -2.1152,  0.3223],\n",
      "         [-1.2633,  0.3500,  0.3081],\n",
      "         [ 0.1198,  1.2377, -0.1435]],\n",
      "\n",
      "        [[-0.1116, -0.6136,  0.0316],\n",
      "         [-0.4927,  0.2484,  0.4397],\n",
      "         [ 0.1124, -0.8411, -2.3160],\n",
      "         [-0.1023,  0.7924, -0.2897],\n",
      "         [ 0.0525,  0.5229,  2.3022]]])\n",
      "ad:  tensor([[0., 1., 0., 0., 1.],\n",
      "        [1., 0., 1., 1., 0.],\n",
      "        [1., 0., 0., 0., 1.],\n",
      "        [1., 0., 1., 0., 0.],\n",
      "        [1., 1., 1., 1., 0.]])\n"
     ]
    },
    {
     "ename": "RuntimeError",
     "evalue": "The size of tensor a (5) must match the size of tensor b (3) at non-singleton dimension 1",
     "output_type": "error",
     "traceback": [
      "\u001b[1;31m---------------------------------------------------------------------------\u001b[0m",
      "\u001b[1;31mRuntimeError\u001b[0m                              Traceback (most recent call last)",
      "\u001b[1;32mg:\\Code\\FrameWork_version_1.0_gat\\test.ipynb Cell 35\u001b[0m line \u001b[0;36m3\n\u001b[0;32m      <a href='vscode-notebook-cell:/g%3A/Code/FrameWork_version_1.0_gat/test.ipynb#Y111sZmlsZQ%3D%3D?line=0'>1</a>\u001b[0m \u001b[39mprint\u001b[39m(\u001b[39m'\u001b[39m\u001b[39mdata: \u001b[39m\u001b[39m'\u001b[39m, data)\n\u001b[0;32m      <a href='vscode-notebook-cell:/g%3A/Code/FrameWork_version_1.0_gat/test.ipynb#Y111sZmlsZQ%3D%3D?line=1'>2</a>\u001b[0m \u001b[39mprint\u001b[39m(\u001b[39m'\u001b[39m\u001b[39mad: \u001b[39m\u001b[39m'\u001b[39m, ad)\n\u001b[1;32m----> <a href='vscode-notebook-cell:/g%3A/Code/FrameWork_version_1.0_gat/test.ipynb#Y111sZmlsZQ%3D%3D?line=2'>3</a>\u001b[0m child \u001b[39m=\u001b[39m get_child(data, ad)\n\u001b[0;32m      <a href='vscode-notebook-cell:/g%3A/Code/FrameWork_version_1.0_gat/test.ipynb#Y111sZmlsZQ%3D%3D?line=3'>4</a>\u001b[0m \u001b[39mprint\u001b[39m(\u001b[39m'\u001b[39m\u001b[39mchild: \u001b[39m\u001b[39m'\u001b[39m, child)\n",
      "\u001b[1;32mg:\\Code\\FrameWork_version_1.0_gat\\test.ipynb Cell 35\u001b[0m line \u001b[0;36m3\n\u001b[0;32m      <a href='vscode-notebook-cell:/g%3A/Code/FrameWork_version_1.0_gat/test.ipynb#Y111sZmlsZQ%3D%3D?line=0'>1</a>\u001b[0m \u001b[39mdef\u001b[39;00m \u001b[39mget_child\u001b[39m(X, A):\n\u001b[0;32m      <a href='vscode-notebook-cell:/g%3A/Code/FrameWork_version_1.0_gat/test.ipynb#Y111sZmlsZQ%3D%3D?line=1'>2</a>\u001b[0m \u001b[39m    \u001b[39m\u001b[39m''' x: (N, T), a: (N, N)'''\u001b[39;00m\n\u001b[1;32m----> <a href='vscode-notebook-cell:/g%3A/Code/FrameWork_version_1.0_gat/test.ipynb#Y111sZmlsZQ%3D%3D?line=2'>3</a>\u001b[0m     \u001b[39mreturn\u001b[39;00m (A\u001b[39m*\u001b[39;49mX[\u001b[39m0\u001b[39;49m])\u001b[39m.\u001b[39mpermute(\u001b[39m1\u001b[39m,\u001b[39m0\u001b[39m,\u001b[39m2\u001b[39m)\n",
      "\u001b[1;31mRuntimeError\u001b[0m: The size of tensor a (5) must match the size of tensor b (3) at non-singleton dimension 1"
     ]
    }
   ],
   "source": [
    "print('data: ', data)\n",
    "print('ad: ', ad)\n",
    "child = get_child(data, ad)\n",
    "print('child: ', child)"
   ]
  },
  {
   "cell_type": "code",
   "execution_count": 45,
   "metadata": {},
   "outputs": [],
   "source": [
    "import torch\n",
    "import numpy as np\n",
    "import scipy# .signal.correlate\n",
    "import time"
   ]
  },
  {
   "cell_type": "code",
   "execution_count": 102,
   "metadata": {},
   "outputs": [],
   "source": [
    "N = 5\n",
    "T = 11\n",
    "# 随机生成邻接矩阵\n",
    "adj = np.random.randint(0, 2, (N, N))\n",
    "X = torch.randn(N, T)"
   ]
  },
  {
   "cell_type": "code",
   "execution_count": 103,
   "metadata": {},
   "outputs": [],
   "source": [
    "def time_rec(func):\n",
    "    def wrap_func(*args, **kwargs):\n",
    "        start = time.time()\n",
    "        corr = func(*args, **kwargs)\n",
    "        end = time.time()\n",
    "        print('running time: ', end-start)\n",
    "        return corr\n",
    "    return wrap_func\n",
    "        \n",
    "@time_rec\n",
    "def cal_corr(x_0, x_1, f):\n",
    "    corr = f(x_0, x_1)\n",
    "    return corr"
   ]
  },
  {
   "cell_type": "code",
   "execution_count": 136,
   "metadata": {},
   "outputs": [
    {
     "name": "stdout",
     "output_type": "stream",
     "text": [
      "running time:  0.0\n",
      "[ 1.2468162   3.2639039  -0.9340196  -0.4098159   4.262111   -1.5268508\n",
      " -0.31321257  9.651836   -0.21992397 -4.8084626   1.2743511   1.4615388\n",
      " -2.1905522   2.007371    3.118171   -2.98776    -3.5425339   0.31444553\n",
      "  1.5643156   0.22115692 -0.26092228]\n",
      "3\n",
      "3\n"
     ]
    }
   ],
   "source": [
    "time_delay = cal_corr(X[0], X[0].roll(3), scipy.signal.correlate)\n",
    "print(time_delay)\n",
    "max_lag = 5\n",
    "print(-np.argmax(time_delay[len(time_delay)//2-max_lag:len(time_delay)])+len(time_delay)//2-max_lag)\n",
    "print(X.shape[-1] - np.argmax(time_delay)-1)"
   ]
  },
  {
   "cell_type": "code",
   "execution_count": 140,
   "metadata": {},
   "outputs": [
    {
     "data": {
      "text/plain": [
       "array([1, 1, 0, 0, 1])"
      ]
     },
     "execution_count": 140,
     "metadata": {},
     "output_type": "execute_result"
    }
   ],
   "source": [
    "np.roll(np.diag(adj),1)"
   ]
  },
  {
   "cell_type": "code",
   "execution_count": 5,
   "metadata": {},
   "outputs": [],
   "source": [
    "import torch\n",
    "import torch.nn"
   ]
  },
  {
   "cell_type": "code",
   "execution_count": 6,
   "metadata": {},
   "outputs": [
    {
     "ename": "RuntimeError",
     "evalue": "Expected 2D (unbatched) or 3D (batched) input to conv1d, but got input of size: [5, 3, 8, 16]",
     "output_type": "error",
     "traceback": [
      "\u001b[1;31m---------------------------------------------------------------------------\u001b[0m",
      "\u001b[1;31mRuntimeError\u001b[0m                              Traceback (most recent call last)",
      "Cell \u001b[1;32mIn[6], line 3\u001b[0m\n\u001b[0;32m      1\u001b[0m x \u001b[38;5;241m=\u001b[39m torch\u001b[38;5;241m.\u001b[39mrandn(\u001b[38;5;241m5\u001b[39m,\u001b[38;5;241m3\u001b[39m,\u001b[38;5;241m8\u001b[39m,\u001b[38;5;241m16\u001b[39m) \u001b[38;5;66;03m# B * C * N * T\u001b[39;00m\n\u001b[0;32m      2\u001b[0m conv1 \u001b[38;5;241m=\u001b[39m torch\u001b[38;5;241m.\u001b[39mnn\u001b[38;5;241m.\u001b[39mConv1d(\u001b[38;5;241m3\u001b[39m, \u001b[38;5;241m8\u001b[39m, \u001b[38;5;241m3\u001b[39m, stride\u001b[38;5;241m=\u001b[39m\u001b[38;5;241m1\u001b[39m)\n\u001b[1;32m----> 3\u001b[0m \u001b[43mconv1\u001b[49m\u001b[43m(\u001b[49m\u001b[43mx\u001b[49m\u001b[43m)\u001b[49m\n",
      "File \u001b[1;32mf:\\anaconda3\\envs\\mlearning\\lib\\site-packages\\torch\\nn\\modules\\module.py:1501\u001b[0m, in \u001b[0;36mModule._call_impl\u001b[1;34m(self, *args, **kwargs)\u001b[0m\n\u001b[0;32m   1496\u001b[0m \u001b[38;5;66;03m# If we don't have any hooks, we want to skip the rest of the logic in\u001b[39;00m\n\u001b[0;32m   1497\u001b[0m \u001b[38;5;66;03m# this function, and just call forward.\u001b[39;00m\n\u001b[0;32m   1498\u001b[0m \u001b[38;5;28;01mif\u001b[39;00m \u001b[38;5;129;01mnot\u001b[39;00m (\u001b[38;5;28mself\u001b[39m\u001b[38;5;241m.\u001b[39m_backward_hooks \u001b[38;5;129;01mor\u001b[39;00m \u001b[38;5;28mself\u001b[39m\u001b[38;5;241m.\u001b[39m_backward_pre_hooks \u001b[38;5;129;01mor\u001b[39;00m \u001b[38;5;28mself\u001b[39m\u001b[38;5;241m.\u001b[39m_forward_hooks \u001b[38;5;129;01mor\u001b[39;00m \u001b[38;5;28mself\u001b[39m\u001b[38;5;241m.\u001b[39m_forward_pre_hooks\n\u001b[0;32m   1499\u001b[0m         \u001b[38;5;129;01mor\u001b[39;00m _global_backward_pre_hooks \u001b[38;5;129;01mor\u001b[39;00m _global_backward_hooks\n\u001b[0;32m   1500\u001b[0m         \u001b[38;5;129;01mor\u001b[39;00m _global_forward_hooks \u001b[38;5;129;01mor\u001b[39;00m _global_forward_pre_hooks):\n\u001b[1;32m-> 1501\u001b[0m     \u001b[38;5;28;01mreturn\u001b[39;00m forward_call(\u001b[38;5;241m*\u001b[39margs, \u001b[38;5;241m*\u001b[39m\u001b[38;5;241m*\u001b[39mkwargs)\n\u001b[0;32m   1502\u001b[0m \u001b[38;5;66;03m# Do not call functions when jit is used\u001b[39;00m\n\u001b[0;32m   1503\u001b[0m full_backward_hooks, non_full_backward_hooks \u001b[38;5;241m=\u001b[39m [], []\n",
      "File \u001b[1;32mf:\\anaconda3\\envs\\mlearning\\lib\\site-packages\\torch\\nn\\modules\\conv.py:313\u001b[0m, in \u001b[0;36mConv1d.forward\u001b[1;34m(self, input)\u001b[0m\n\u001b[0;32m    312\u001b[0m \u001b[38;5;28;01mdef\u001b[39;00m \u001b[38;5;21mforward\u001b[39m(\u001b[38;5;28mself\u001b[39m, \u001b[38;5;28minput\u001b[39m: Tensor) \u001b[38;5;241m-\u001b[39m\u001b[38;5;241m>\u001b[39m Tensor:\n\u001b[1;32m--> 313\u001b[0m     \u001b[38;5;28;01mreturn\u001b[39;00m \u001b[38;5;28;43mself\u001b[39;49m\u001b[38;5;241;43m.\u001b[39;49m\u001b[43m_conv_forward\u001b[49m\u001b[43m(\u001b[49m\u001b[38;5;28;43minput\u001b[39;49m\u001b[43m,\u001b[49m\u001b[43m \u001b[49m\u001b[38;5;28;43mself\u001b[39;49m\u001b[38;5;241;43m.\u001b[39;49m\u001b[43mweight\u001b[49m\u001b[43m,\u001b[49m\u001b[43m \u001b[49m\u001b[38;5;28;43mself\u001b[39;49m\u001b[38;5;241;43m.\u001b[39;49m\u001b[43mbias\u001b[49m\u001b[43m)\u001b[49m\n",
      "File \u001b[1;32mf:\\anaconda3\\envs\\mlearning\\lib\\site-packages\\torch\\nn\\modules\\conv.py:309\u001b[0m, in \u001b[0;36mConv1d._conv_forward\u001b[1;34m(self, input, weight, bias)\u001b[0m\n\u001b[0;32m    305\u001b[0m \u001b[38;5;28;01mif\u001b[39;00m \u001b[38;5;28mself\u001b[39m\u001b[38;5;241m.\u001b[39mpadding_mode \u001b[38;5;241m!=\u001b[39m \u001b[38;5;124m'\u001b[39m\u001b[38;5;124mzeros\u001b[39m\u001b[38;5;124m'\u001b[39m:\n\u001b[0;32m    306\u001b[0m     \u001b[38;5;28;01mreturn\u001b[39;00m F\u001b[38;5;241m.\u001b[39mconv1d(F\u001b[38;5;241m.\u001b[39mpad(\u001b[38;5;28minput\u001b[39m, \u001b[38;5;28mself\u001b[39m\u001b[38;5;241m.\u001b[39m_reversed_padding_repeated_twice, mode\u001b[38;5;241m=\u001b[39m\u001b[38;5;28mself\u001b[39m\u001b[38;5;241m.\u001b[39mpadding_mode),\n\u001b[0;32m    307\u001b[0m                     weight, bias, \u001b[38;5;28mself\u001b[39m\u001b[38;5;241m.\u001b[39mstride,\n\u001b[0;32m    308\u001b[0m                     _single(\u001b[38;5;241m0\u001b[39m), \u001b[38;5;28mself\u001b[39m\u001b[38;5;241m.\u001b[39mdilation, \u001b[38;5;28mself\u001b[39m\u001b[38;5;241m.\u001b[39mgroups)\n\u001b[1;32m--> 309\u001b[0m \u001b[38;5;28;01mreturn\u001b[39;00m \u001b[43mF\u001b[49m\u001b[38;5;241;43m.\u001b[39;49m\u001b[43mconv1d\u001b[49m\u001b[43m(\u001b[49m\u001b[38;5;28;43minput\u001b[39;49m\u001b[43m,\u001b[49m\u001b[43m \u001b[49m\u001b[43mweight\u001b[49m\u001b[43m,\u001b[49m\u001b[43m \u001b[49m\u001b[43mbias\u001b[49m\u001b[43m,\u001b[49m\u001b[43m \u001b[49m\u001b[38;5;28;43mself\u001b[39;49m\u001b[38;5;241;43m.\u001b[39;49m\u001b[43mstride\u001b[49m\u001b[43m,\u001b[49m\n\u001b[0;32m    310\u001b[0m \u001b[43m                \u001b[49m\u001b[38;5;28;43mself\u001b[39;49m\u001b[38;5;241;43m.\u001b[39;49m\u001b[43mpadding\u001b[49m\u001b[43m,\u001b[49m\u001b[43m \u001b[49m\u001b[38;5;28;43mself\u001b[39;49m\u001b[38;5;241;43m.\u001b[39;49m\u001b[43mdilation\u001b[49m\u001b[43m,\u001b[49m\u001b[43m \u001b[49m\u001b[38;5;28;43mself\u001b[39;49m\u001b[38;5;241;43m.\u001b[39;49m\u001b[43mgroups\u001b[49m\u001b[43m)\u001b[49m\n",
      "\u001b[1;31mRuntimeError\u001b[0m: Expected 2D (unbatched) or 3D (batched) input to conv1d, but got input of size: [5, 3, 8, 16]"
     ]
    }
   ],
   "source": [
    "x = torch.randn(5,3,8,16) # B * C * N * T\n",
    "conv1 = torch.nn.Conv1d(3, 8, 3, stride=1)\n",
    "conv1(x)"
   ]
  },
  {
   "cell_type": "code",
   "execution_count": 7,
   "metadata": {},
   "outputs": [
    {
     "data": {
      "text/plain": [
       "tensor([[[-1.2050,  0.2151, -1.7792],\n",
       "         [-0.7125,  1.5173,  0.7709],\n",
       "         [ 0.6298,  0.0029,  1.3107]],\n",
       "\n",
       "        [[-0.9602, -0.1017, -0.7714],\n",
       "         [ 0.7244,  2.2775,  0.1156],\n",
       "         [ 0.8581,  0.1368,  0.4027]]])"
      ]
     },
     "execution_count": 7,
     "metadata": {},
     "output_type": "execute_result"
    }
   ],
   "source": [
    "x = torch.randn(2,3,3)\n",
    "x"
   ]
  },
  {
   "cell_type": "code",
   "execution_count": 19,
   "metadata": {},
   "outputs": [
    {
     "data": {
      "text/plain": [
       "tensor([[-1.2050,  1.5173,  1.3107],\n",
       "        [-0.9602,  2.2775,  0.4027]])"
      ]
     },
     "execution_count": 19,
     "metadata": {},
     "output_type": "execute_result"
    }
   ],
   "source": [
    "x_d = torch.diagonal(x, dim1=-2, dim2=-1)\n",
    "x_d"
   ]
  },
  {
   "cell_type": "code",
   "execution_count": 20,
   "metadata": {},
   "outputs": [
    {
     "data": {
      "text/plain": [
       "tensor([[[-1.2050,  0.0000,  0.0000],\n",
       "         [ 0.0000,  1.5173,  0.0000],\n",
       "         [ 0.0000,  0.0000,  1.3107]],\n",
       "\n",
       "        [[-0.9602,  0.0000,  0.0000],\n",
       "         [ 0.0000,  2.2775,  0.0000],\n",
       "         [ 0.0000,  0.0000,  0.4027]]])"
      ]
     },
     "execution_count": 20,
     "metadata": {},
     "output_type": "execute_result"
    }
   ],
   "source": [
    "torch.diag_embed(x_d)"
   ]
  },
  {
   "cell_type": "code",
   "execution_count": 1,
   "metadata": {},
   "outputs": [],
   "source": [
    "import argparse"
   ]
  },
  {
   "cell_type": "code",
   "execution_count": 7,
   "metadata": {},
   "outputs": [],
   "source": [
    "\n",
    "def get_args():\n",
    "    parser = argparse.ArgumentParser(description='Training parameters! ')\n",
    "\n",
    "    ###########################################\n",
    "    #############         Common parameters:\n",
    "    ###########################################\n",
    "    parser.add_argument('--results_path', type=str, required=False, default='./results/')\n",
    "    parser.add_argument('--data_path', type=str, required=False, default='./data/save_df.csv', help='data path') \n",
    "    # parser.add_argument('--data_path', type=str, required=False, default='./data/te_data.csv', help='data path')  # te dataset\n",
    "    \n",
    "    args = parser.parse_args()\n",
    "    return args"
   ]
  },
  {
   "cell_type": "code",
   "execution_count": 9,
   "metadata": {},
   "outputs": [],
   "source": [
    "d = {'results_path': './results/', 'data_path': './data/save_df.csv', 'rolling_window': 1, 'scaler': 'StandardScaler', 'train_ratio': 0.6, 'valid_ratio': 0.1, 'time': 'day', 'seed': 42, 'epoches': 10, 'lr': 0.001, 'WEIGHT_DECAY': 0.001, 'batch_size': 16, 'model': 'gru', 'target': '汽油', 'window_size': 12, 'autoregress': False, 'lstm_layers': 3, 'lstm_hidden_size': 256, 'hidde_gat': 32}"
   ]
  },
  {
   "cell_type": "code",
   "execution_count": 15,
   "metadata": {},
   "outputs": [
    {
     "data": {
      "text/plain": [
       "'./data/save_df.csv'"
      ]
     },
     "execution_count": 15,
     "metadata": {},
     "output_type": "execute_result"
    }
   ],
   "source": [
    "d['data_path']"
   ]
  },
  {
   "cell_type": "code",
   "execution_count": 13,
   "metadata": {},
   "outputs": [
    {
     "name": "stdout",
     "output_type": "stream",
     "text": [
      "None\n",
      "{'results_path': './results/', 'data_path': './data/save_df.csv', 'rolling_window': 1, 'scaler': 'StandardScaler', 'train_ratio': 0.6, 'valid_ratio': 0.1, 'time': 'day', 'seed': 42, 'epoches': 10, 'lr': 0.001, 'WEIGHT_DECAY': 0.001, 'batch_size': 16, 'model': 'gru', 'target': '汽油', 'window_size': 12, 'autoregress': False, 'lstm_layers': 3, 'lstm_hidden_size': 256, 'hidde_gat': 32}\n"
     ]
    }
   ],
   "source": [
    "def dict_arg_f(test=None,**args):\n",
    "    print(test)\n",
    "    print(args)\n",
    "    \n",
    "dict_arg_f(**d)"
   ]
  },
  {
   "cell_type": "code",
   "execution_count": 1,
   "metadata": {},
   "outputs": [],
   "source": [
    "import pandas as pd"
   ]
  },
  {
   "cell_type": "code",
   "execution_count": 21,
   "metadata": {},
   "outputs": [
    {
     "data": {
      "text/plain": [
       "0    NaN\n",
       "1    1.0\n",
       "2    2.0\n",
       "Name: a, dtype: float64"
      ]
     },
     "execution_count": 21,
     "metadata": {},
     "output_type": "execute_result"
    }
   ],
   "source": [
    "x = pd.DataFrame({'a': [1,2,3], 'b': [4,5,6]})\n",
    "x['a'].shift(1)"
   ]
  },
  {
   "cell_type": "code",
   "execution_count": 19,
   "metadata": {},
   "outputs": [
    {
     "name": "stdout",
     "output_type": "stream",
     "text": [
      "[\"Namespace(results_path='./results/'\", \" data_path='./data/te_data.csv'\", \" dataset='TE'\", \" target='v10'\", \" rmcols='None'\", \" time='20240112155519'\", ' rolling_window=1', \" scaler='MinMaxScaler'\", ' train_ratio=0.6', ' valid_ratio=0.1', ' seed=30', \" optimizer='Adam'\", ' epoches=5', ' lr=0.001', ' WEIGHT_DECAY=0.0001', ' batch_size=16', \" device='cuda'\", \" model_type='GAT'\", ' window_size=32', ' autoregress=False', ' lstm_layers=3', ' lstm_hidden_size=256', \" graph_type='mechanism'\", ' nhid=32', ' target_idx=9', ' attgru_hidsize=128', ' attgru_hidslayer=32', ' gru_hid=32', ' node_num=33)']\n",
      "32 30\n"
     ]
    }
   ],
   "source": [
    "path = r'G:\\Code\\FrameWork_version_1.0_gat\\results\\20240112155519\\GAT\\record.txt'\n",
    "parameter_name='window_size'\n",
    "with open(path, 'r') as f:\n",
    "    lines = f.readlines()[-1]\n",
    "    args = lines.strip().split(',')\n",
    "    print(args)\n",
    "    para_value = [arg.split('=')[1] for arg in args if arg.split('=')[0].strip() == parameter_name][0]\n",
    "    seed = [arg.split('=')[1] for arg in args if arg.split('=')[0].strip() == 'seed'][0]\n",
    "    print(para_value, seed)\n",
    "    "
   ]
  },
  {
   "cell_type": "code",
   "execution_count": 35,
   "metadata": {},
   "outputs": [
    {
     "name": "stdout",
     "output_type": "stream",
     "text": [
      "Target: v10\n",
      "\n",
      "Rmse: 0.11987720149935367\n",
      "\n",
      "mse: 0.014370543439316643\n",
      "\n",
      "mae: 0.0980003526271062\n",
      "\n",
      "mape: 3.3694284067505644\n",
      "\n",
      "R2: 0.18935821565135103\n",
      "\n",
      "params: \n",
      "\n",
      "Namespace(results_path='./results/', data_path='./data/te_data.csv', dataset='TE', target='v10', rmcols='None', time='20240112163004', rolling_window=1, scaler='MinMaxScaler', train_ratio=0.6, valid_ratio=0.1, seed=128, optimizer='Adam', epoches=5, lr=0.001, WEIGHT_DECAY=0.0001, batch_size=16, device='cuda', model_type='GAT', window_size=32, autoregress=False, lstm_layers=3, lstm_hidden_size=256, graph_type='mechanism', nhid=32, target_idx=9, attgru_hidsize=128, attgru_hidslayer=32, gru_hid=32, node_num=33)\n",
      "\n",
      "0.11987720149935367\n"
     ]
    }
   ],
   "source": [
    "path = r'G:\\Code\\FrameWork_version_1.0_gat\\results\\20240112163004\\GAT\\record.txt'\n",
    "parameter_name='window_size'\n",
    "with open(path, 'r') as f:\n",
    "    lines = f.readlines()\n",
    "    for line in lines:\n",
    "        print(line)\n",
    "print(lines[1].split(':')[1].strip())"
   ]
  },
  {
   "cell_type": "code",
   "execution_count": 23,
   "metadata": {},
   "outputs": [
    {
     "data": {
      "text/html": [
       "<div>\n",
       "<style scoped>\n",
       "    .dataframe tbody tr th:only-of-type {\n",
       "        vertical-align: middle;\n",
       "    }\n",
       "\n",
       "    .dataframe tbody tr th {\n",
       "        vertical-align: top;\n",
       "    }\n",
       "\n",
       "    .dataframe thead th {\n",
       "        text-align: right;\n",
       "    }\n",
       "</style>\n",
       "<table border=\"1\" class=\"dataframe\">\n",
       "  <thead>\n",
       "    <tr style=\"text-align: right;\">\n",
       "      <th></th>\n",
       "      <th>a</th>\n",
       "      <th>b</th>\n",
       "    </tr>\n",
       "  </thead>\n",
       "  <tbody>\n",
       "  </tbody>\n",
       "</table>\n",
       "</div>"
      ],
      "text/plain": [
       "Empty DataFrame\n",
       "Columns: [a, b]\n",
       "Index: []"
      ]
     },
     "execution_count": 23,
     "metadata": {},
     "output_type": "execute_result"
    }
   ],
   "source": [
    "x = pd.DataFrame(columns=['a', 'b'])\n",
    "x"
   ]
  },
  {
   "cell_type": "code",
   "execution_count": 24,
   "metadata": {},
   "outputs": [],
   "source": [
    "data = [1,2]\n",
    "x = pd.concat([x, pd.DataFrame([data], columns=['a', 'b'])])"
   ]
  },
  {
   "cell_type": "code",
   "execution_count": 25,
   "metadata": {},
   "outputs": [
    {
     "data": {
      "text/html": [
       "<div>\n",
       "<style scoped>\n",
       "    .dataframe tbody tr th:only-of-type {\n",
       "        vertical-align: middle;\n",
       "    }\n",
       "\n",
       "    .dataframe tbody tr th {\n",
       "        vertical-align: top;\n",
       "    }\n",
       "\n",
       "    .dataframe thead th {\n",
       "        text-align: right;\n",
       "    }\n",
       "</style>\n",
       "<table border=\"1\" class=\"dataframe\">\n",
       "  <thead>\n",
       "    <tr style=\"text-align: right;\">\n",
       "      <th></th>\n",
       "      <th>a</th>\n",
       "      <th>b</th>\n",
       "    </tr>\n",
       "  </thead>\n",
       "  <tbody>\n",
       "    <tr>\n",
       "      <th>0</th>\n",
       "      <td>1</td>\n",
       "      <td>2</td>\n",
       "    </tr>\n",
       "  </tbody>\n",
       "</table>\n",
       "</div>"
      ],
      "text/plain": [
       "   a  b\n",
       "0  1  2"
      ]
     },
     "execution_count": 25,
     "metadata": {},
     "output_type": "execute_result"
    }
   ],
   "source": [
    "x"
   ]
  },
  {
   "cell_type": "code",
   "execution_count": 36,
   "metadata": {},
   "outputs": [
    {
     "data": {
      "text/plain": [
       "1.0"
      ]
     },
     "execution_count": 36,
     "metadata": {},
     "output_type": "execute_result"
    }
   ],
   "source": [
    "float('1')"
   ]
  }
 ],
 "metadata": {
  "kernelspec": {
   "display_name": "mlearning",
   "language": "python",
   "name": "python3"
  },
  "language_info": {
   "codemirror_mode": {
    "name": "ipython",
    "version": 3
   },
   "file_extension": ".py",
   "mimetype": "text/x-python",
   "name": "python",
   "nbconvert_exporter": "python",
   "pygments_lexer": "ipython3",
   "version": "3.9.17"
  }
 },
 "nbformat": 4,
 "nbformat_minor": 2
}
